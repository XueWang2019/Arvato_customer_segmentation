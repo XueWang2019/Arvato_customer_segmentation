{
 "cells": [
  {
   "cell_type": "markdown",
   "metadata": {},
   "source": [
    "# Arvato_customer_segmentation\n",
    "\n",
    "## Libraries:\n",
    "\n",
    "* numpy \n",
    "* pandas\n",
    "* matplotlib\n",
    "* seaborn\n",
    "* sklearn\n",
    "* imblearn\n",
    "* xgboost\n",
    "\n",
    "## Motivation  \n",
    "\n",
    "Nowadays, with big data becomes reality, people now focus on how to use the data to realize commercial values. One area which is much more mature is how to picture the potential customer or predict the behavior of the customer, to target the market or customer more precisely.\n",
    "Bertelsman Arvato Finaincial Solution has provided a challenge: how to target the population and convert them into a mailout company's customers more efficiently.\n",
    "\n",
    "## Files included:\n",
    "etl.py: supported files for data cleaning, plot, pca and KMeans.  \n",
    "Arvato_customer_segment.ipynb: main file\n",
    "\n",
    "\n",
    "## Summary:\n",
    "The work I have implemented in this project summarized as below:\n",
    "\n",
    "* Exploratory the demographics data: general population of Germany, customers of a mail-order company, and market campaign train and test datasets.\n",
    "* Cleaned the dataset and select features.\n",
    "* Used PCA and KMeans to cluster the population. \n",
    "* Analyzed the higher potential clusters' top 10 features to get a relatively clear picture of the target population\n",
    "* Applied supervised machine learning with RandomForestClassifier, LogisticsRegression, and XGBClassifier, GridsearchCV to develop a model that can label the positive response probability to a market campaign. \n",
    "\n",
    "## Takesaways:\n",
    "Through the iteration process, I realized that the different estimators might improve the performance a bit, but in order to approach the real limitation, I still have to come back to the first step to process the data more precisely, which is the basis of improving the model performance.\n",
    "\n",
    "My blogpost is here: [blog)[https://medium.com/p/c8528d5ac77a/edit]\n"
   ]
  },
  {
   "cell_type": "code",
   "execution_count": null,
   "metadata": {},
   "outputs": [],
   "source": []
  }
 ],
 "metadata": {
  "kernelspec": {
   "display_name": "Python 3",
   "language": "python",
   "name": "python3"
  },
  "language_info": {
   "codemirror_mode": {
    "name": "ipython",
    "version": 3
   },
   "file_extension": ".py",
   "mimetype": "text/x-python",
   "name": "python",
   "nbconvert_exporter": "python",
   "pygments_lexer": "ipython3",
   "version": "3.8.5"
  }
 },
 "nbformat": 4,
 "nbformat_minor": 4
}
